{
 "cells": [
  {
   "cell_type": "code",
   "execution_count": 2,
   "metadata": {},
   "outputs": [
    {
     "name": "stderr",
     "output_type": "stream",
     "text": [
      "Using TensorFlow backend.\n"
     ]
    }
   ],
   "source": [
    "import xml.etree.ElementTree as ET\n",
    "from __future__ import print_function\n",
    "from nltk import word_tokenize\n",
    "from nltk.corpus import stopwords\n",
    "import nltk\n",
    "import pickle\n",
    "from nltk.tokenize import sent_tokenize, word_tokenize\n",
    "from nltk.stem import PorterStemmer\n",
    "from nltk.tokenize import sent_tokenize, word_tokenize\n",
    "from keras.preprocessing.sequence import pad_sequences\n",
    "from sklearn.model_selection import train_test_split"
   ]
  },
  {
   "cell_type": "code",
   "execution_count": 3,
   "metadata": {},
   "outputs": [],
   "source": [
    "def filter_words(words):\n",
    "    stopWords = set(stopwords.words('english'))\n",
    "    wordsFiltered = \"\"\n",
    "    words=words.split()\n",
    "    for w in words:\n",
    "        if w not in stopWords:\n",
    "            wordsFiltered+=w+\" \"\n",
    "    return wordsFiltered\n",
    "\n",
    "\n",
    "data = ET.parse('ABSA15_Restaurants_Test.xml')\n",
    "reviews = data.getroot()\n",
    "dataset=[]\n",
    "pos_tags=[]\n",
    "all_data=[]\n",
    "sentences1=[]\n",
    "z=open('all_text.txt','w')\n",
    "for review in reviews:\n",
    "        sentences = review[0]\n",
    "        for sentence in sentences:\n",
    "            raw_text = sentence[0].text.strip()\n",
    "            tokens_temp = word_tokenize(raw_text)\n",
    "            tags=nltk.pos_tag(tokens_temp)\n",
    "            pos_tags.append(nltk.pos_tag(tokens_temp))\n",
    "            words = word_tokenize(sentence[0].text.strip())\n",
    "            aspects=[]\n",
    "            sample = [words, []]\n",
    "            if len(sentence)>1:\n",
    "                opinions=sentence[1]\n",
    "                for opinion in opinions:\n",
    "                    firstLetter = int(opinion.attrib['from'])\n",
    "                    lastLetter = int(opinion.attrib['to'])\n",
    "                    if firstLetter!=lastLetter:\n",
    "                        lastLetter = int(opinion.attrib['to'])\n",
    "                        if firstLetter!=lastLetter:\n",
    "                            aspects.append(raw_text[firstLetter:lastLetter])\n",
    "                if len(aspects)==0:\n",
    "                    continue\n",
    "                tagged=[]\n",
    "                tokens_temp = word_tokenize(filter_words(raw_text))\n",
    "                tags=nltk.pos_tag(tokens_temp)\n",
    "                \n",
    "                \n",
    "                for t in tags:\n",
    "                    for aspect in aspects:\n",
    "                        if t[0] in aspects:\n",
    "                            tagged.append((t[0], t[1], 1))\n",
    "                        else:\n",
    "                            tagged.append((t[0], t[1], 0))\n",
    "                sentences1.append(tagged)"
   ]
  },
  {
   "cell_type": "code",
   "execution_count": 5,
   "metadata": {},
   "outputs": [],
   "source": [
    "with open('train_sentences.pkl', 'wb') as f:\n",
    "    pickle.dump(sentences1, f)"
   ]
  },
  {
   "cell_type": "code",
   "execution_count": null,
   "metadata": {},
   "outputs": [],
   "source": []
  }
 ],
 "metadata": {
  "kernelspec": {
   "display_name": "Python 3",
   "language": "python",
   "name": "python3"
  },
  "language_info": {
   "codemirror_mode": {
    "name": "ipython",
    "version": 3
   },
   "file_extension": ".py",
   "mimetype": "text/x-python",
   "name": "python",
   "nbconvert_exporter": "python",
   "pygments_lexer": "ipython3",
   "version": "3.6.4"
  }
 },
 "nbformat": 4,
 "nbformat_minor": 2
}
